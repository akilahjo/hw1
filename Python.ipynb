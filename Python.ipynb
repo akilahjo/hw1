{
  "nbformat": 4,
  "nbformat_minor": 0,
  "metadata": {
    "colab": {
      "name": "Python.ipynb",
      "provenance": [],
      "authorship_tag": "ABX9TyNc0+BUKYagfIU8diHnict5",
      "include_colab_link": true
    },
    "kernelspec": {
      "name": "python3",
      "display_name": "Python 3"
    },
    "language_info": {
      "name": "python"
    }
  },
  "cells": [
    {
      "cell_type": "markdown",
      "metadata": {
        "id": "view-in-github",
        "colab_type": "text"
      },
      "source": [
        "<a href=\"https://colab.research.google.com/github/akilahjo/hw1/blob/main/Python.ipynb\" target=\"_parent\"><img src=\"https://colab.research.google.com/assets/colab-badge.svg\" alt=\"Open In Colab\"/></a>"
      ]
    },
    {
      "cell_type": "code",
      "execution_count": null,
      "metadata": {
        "id": "E5y_6873OzMU"
      },
      "outputs": [],
      "source": [
        ""
      ]
    },
    {
      "cell_type": "markdown",
      "source": [
        "Only submission is via the Canvas.\n",
        "• Please make sure that you upload the .py file to Canvas and provide a link to your GitHub repository where you need\n",
        "to upload your .ipynb (Python Notebook)\n",
        "• No late submissions will be accepted unless you have an excuse.\n",
        "• You may need to show your answers to me in class during lab time.\n",
        "1. Create a GitHub if you don’t have and provide your user name as a text submission.\n",
        "2. Use pandas to read the olympic_medals.csv from the DATA folder on Google Drive. Then perform the followings by\n",
        "using pandas and/or Python built-in functions.\n",
        "\n",
        "(a) Find the size of the data frame. How many rows, how many columns?\n",
        "\n",
        "(b) Use the appropriate function to report the data types for all columns.\n",
        "\n",
        "(c) Find how many unique cities matches were held at. (Hint: unique( ). For instance, the following example tells\n",
        "how many unique Events held:)\n",
        "len(medals['Event'].unique())\n",
        "\n",
        "(d) Find how many medals the USA team won in total.\n",
        "\n",
        "(e) Find the total number of medals for each Nationality. (Hint: please search for groupby() function with count.\n",
        "For instance, the following example counts at how many locations each event was held. )\n",
        "medals.groupby(by='Event')['Location'].count()"
      ],
      "metadata": {
        "id": "8qieC4YkO299"
      }
    },
    {
      "cell_type": "code",
      "source": [
        "from google.colab import drive\n",
        "drive.mount('/content/drive')"
      ],
      "metadata": {
        "colab": {
          "base_uri": "https://localhost:8080/"
        },
        "id": "9yviXDotPFqx",
        "outputId": "7d9f6efd-4c18-45ca-9934-7422d0040cc7"
      },
      "execution_count": 1,
      "outputs": [
        {
          "output_type": "stream",
          "name": "stdout",
          "text": [
            "Mounted at /content/drive\n"
          ]
        }
      ]
    },
    {
      "cell_type": "code",
      "source": [
        "import pandas as pd\n",
        "medals = pd.read_csv('/content/drive/MyDrive/DATA/olympic_medals.csv')\n",
        "medals"
      ],
      "metadata": {
        "colab": {
          "base_uri": "https://localhost:8080/",
          "height": 424
        },
        "id": "4PPZBVEjPqKX",
        "outputId": "8a0b48fa-9a0a-4ee1-bb06-b413e3fcf86a"
      },
      "execution_count": 3,
      "outputs": [
        {
          "output_type": "execute_result",
          "data": {
            "text/plain": [
              "     Gender              Event Location  Year Medal                   Name  \\\n",
              "0         M         10000M Men      Rio  2016     G          Mohamed FARAH   \n",
              "1         M         10000M Men      Rio  2016     S  Paul Kipngetich TANUI   \n",
              "2         M         10000M Men      Rio  2016     B           Tamirat TOLA   \n",
              "3         M         10000M Men  Beijing  2008     G        Kenenisa BEKELE   \n",
              "4         M         10000M Men  Beijing  2008     S         Sileshi SIHINE   \n",
              "...     ...                ...      ...   ...   ...                    ...   \n",
              "2389      W  Triple Jump Women   Athens  2004     S      Hrysopiyi DEVETZI   \n",
              "2390      W  Triple Jump Women   Athens  2004     B       Tatyana LEBEDEVA   \n",
              "2391      W  Triple Jump Women  Atlanta  1996     G         Inessa KRAVETS   \n",
              "2392      W  Triple Jump Women  Atlanta  1996     S        Inna LASOVSKAYA   \n",
              "2393      W  Triple Jump Women  Atlanta  1996     B       Sarka KASPARKOVA   \n",
              "\n",
              "     Nationality    Result  \n",
              "0            GBR  25:05.17  \n",
              "1            KEN  27:05.64  \n",
              "2            ETH  27:06.26  \n",
              "3            ETH  27:01.17  \n",
              "4            ETH  27:02.77  \n",
              "...          ...       ...  \n",
              "2389         GRE     15.25  \n",
              "2390         RUS     15.14  \n",
              "2391         UKR     15.33  \n",
              "2392         RUS     14.98  \n",
              "2393         CZE     14.98  \n",
              "\n",
              "[2394 rows x 8 columns]"
            ],
            "text/html": [
              "\n",
              "  <div id=\"df-d9b1e4c4-4efc-42ff-8bad-06daa64227ed\">\n",
              "    <div class=\"colab-df-container\">\n",
              "      <div>\n",
              "<style scoped>\n",
              "    .dataframe tbody tr th:only-of-type {\n",
              "        vertical-align: middle;\n",
              "    }\n",
              "\n",
              "    .dataframe tbody tr th {\n",
              "        vertical-align: top;\n",
              "    }\n",
              "\n",
              "    .dataframe thead th {\n",
              "        text-align: right;\n",
              "    }\n",
              "</style>\n",
              "<table border=\"1\" class=\"dataframe\">\n",
              "  <thead>\n",
              "    <tr style=\"text-align: right;\">\n",
              "      <th></th>\n",
              "      <th>Gender</th>\n",
              "      <th>Event</th>\n",
              "      <th>Location</th>\n",
              "      <th>Year</th>\n",
              "      <th>Medal</th>\n",
              "      <th>Name</th>\n",
              "      <th>Nationality</th>\n",
              "      <th>Result</th>\n",
              "    </tr>\n",
              "  </thead>\n",
              "  <tbody>\n",
              "    <tr>\n",
              "      <th>0</th>\n",
              "      <td>M</td>\n",
              "      <td>10000M Men</td>\n",
              "      <td>Rio</td>\n",
              "      <td>2016</td>\n",
              "      <td>G</td>\n",
              "      <td>Mohamed FARAH</td>\n",
              "      <td>GBR</td>\n",
              "      <td>25:05.17</td>\n",
              "    </tr>\n",
              "    <tr>\n",
              "      <th>1</th>\n",
              "      <td>M</td>\n",
              "      <td>10000M Men</td>\n",
              "      <td>Rio</td>\n",
              "      <td>2016</td>\n",
              "      <td>S</td>\n",
              "      <td>Paul Kipngetich TANUI</td>\n",
              "      <td>KEN</td>\n",
              "      <td>27:05.64</td>\n",
              "    </tr>\n",
              "    <tr>\n",
              "      <th>2</th>\n",
              "      <td>M</td>\n",
              "      <td>10000M Men</td>\n",
              "      <td>Rio</td>\n",
              "      <td>2016</td>\n",
              "      <td>B</td>\n",
              "      <td>Tamirat TOLA</td>\n",
              "      <td>ETH</td>\n",
              "      <td>27:06.26</td>\n",
              "    </tr>\n",
              "    <tr>\n",
              "      <th>3</th>\n",
              "      <td>M</td>\n",
              "      <td>10000M Men</td>\n",
              "      <td>Beijing</td>\n",
              "      <td>2008</td>\n",
              "      <td>G</td>\n",
              "      <td>Kenenisa BEKELE</td>\n",
              "      <td>ETH</td>\n",
              "      <td>27:01.17</td>\n",
              "    </tr>\n",
              "    <tr>\n",
              "      <th>4</th>\n",
              "      <td>M</td>\n",
              "      <td>10000M Men</td>\n",
              "      <td>Beijing</td>\n",
              "      <td>2008</td>\n",
              "      <td>S</td>\n",
              "      <td>Sileshi SIHINE</td>\n",
              "      <td>ETH</td>\n",
              "      <td>27:02.77</td>\n",
              "    </tr>\n",
              "    <tr>\n",
              "      <th>...</th>\n",
              "      <td>...</td>\n",
              "      <td>...</td>\n",
              "      <td>...</td>\n",
              "      <td>...</td>\n",
              "      <td>...</td>\n",
              "      <td>...</td>\n",
              "      <td>...</td>\n",
              "      <td>...</td>\n",
              "    </tr>\n",
              "    <tr>\n",
              "      <th>2389</th>\n",
              "      <td>W</td>\n",
              "      <td>Triple Jump Women</td>\n",
              "      <td>Athens</td>\n",
              "      <td>2004</td>\n",
              "      <td>S</td>\n",
              "      <td>Hrysopiyi DEVETZI</td>\n",
              "      <td>GRE</td>\n",
              "      <td>15.25</td>\n",
              "    </tr>\n",
              "    <tr>\n",
              "      <th>2390</th>\n",
              "      <td>W</td>\n",
              "      <td>Triple Jump Women</td>\n",
              "      <td>Athens</td>\n",
              "      <td>2004</td>\n",
              "      <td>B</td>\n",
              "      <td>Tatyana LEBEDEVA</td>\n",
              "      <td>RUS</td>\n",
              "      <td>15.14</td>\n",
              "    </tr>\n",
              "    <tr>\n",
              "      <th>2391</th>\n",
              "      <td>W</td>\n",
              "      <td>Triple Jump Women</td>\n",
              "      <td>Atlanta</td>\n",
              "      <td>1996</td>\n",
              "      <td>G</td>\n",
              "      <td>Inessa KRAVETS</td>\n",
              "      <td>UKR</td>\n",
              "      <td>15.33</td>\n",
              "    </tr>\n",
              "    <tr>\n",
              "      <th>2392</th>\n",
              "      <td>W</td>\n",
              "      <td>Triple Jump Women</td>\n",
              "      <td>Atlanta</td>\n",
              "      <td>1996</td>\n",
              "      <td>S</td>\n",
              "      <td>Inna LASOVSKAYA</td>\n",
              "      <td>RUS</td>\n",
              "      <td>14.98</td>\n",
              "    </tr>\n",
              "    <tr>\n",
              "      <th>2393</th>\n",
              "      <td>W</td>\n",
              "      <td>Triple Jump Women</td>\n",
              "      <td>Atlanta</td>\n",
              "      <td>1996</td>\n",
              "      <td>B</td>\n",
              "      <td>Sarka KASPARKOVA</td>\n",
              "      <td>CZE</td>\n",
              "      <td>14.98</td>\n",
              "    </tr>\n",
              "  </tbody>\n",
              "</table>\n",
              "<p>2394 rows × 8 columns</p>\n",
              "</div>\n",
              "      <button class=\"colab-df-convert\" onclick=\"convertToInteractive('df-d9b1e4c4-4efc-42ff-8bad-06daa64227ed')\"\n",
              "              title=\"Convert this dataframe to an interactive table.\"\n",
              "              style=\"display:none;\">\n",
              "        \n",
              "  <svg xmlns=\"http://www.w3.org/2000/svg\" height=\"24px\"viewBox=\"0 0 24 24\"\n",
              "       width=\"24px\">\n",
              "    <path d=\"M0 0h24v24H0V0z\" fill=\"none\"/>\n",
              "    <path d=\"M18.56 5.44l.94 2.06.94-2.06 2.06-.94-2.06-.94-.94-2.06-.94 2.06-2.06.94zm-11 1L8.5 8.5l.94-2.06 2.06-.94-2.06-.94L8.5 2.5l-.94 2.06-2.06.94zm10 10l.94 2.06.94-2.06 2.06-.94-2.06-.94-.94-2.06-.94 2.06-2.06.94z\"/><path d=\"M17.41 7.96l-1.37-1.37c-.4-.4-.92-.59-1.43-.59-.52 0-1.04.2-1.43.59L10.3 9.45l-7.72 7.72c-.78.78-.78 2.05 0 2.83L4 21.41c.39.39.9.59 1.41.59.51 0 1.02-.2 1.41-.59l7.78-7.78 2.81-2.81c.8-.78.8-2.07 0-2.86zM5.41 20L4 18.59l7.72-7.72 1.47 1.35L5.41 20z\"/>\n",
              "  </svg>\n",
              "      </button>\n",
              "      \n",
              "  <style>\n",
              "    .colab-df-container {\n",
              "      display:flex;\n",
              "      flex-wrap:wrap;\n",
              "      gap: 12px;\n",
              "    }\n",
              "\n",
              "    .colab-df-convert {\n",
              "      background-color: #E8F0FE;\n",
              "      border: none;\n",
              "      border-radius: 50%;\n",
              "      cursor: pointer;\n",
              "      display: none;\n",
              "      fill: #1967D2;\n",
              "      height: 32px;\n",
              "      padding: 0 0 0 0;\n",
              "      width: 32px;\n",
              "    }\n",
              "\n",
              "    .colab-df-convert:hover {\n",
              "      background-color: #E2EBFA;\n",
              "      box-shadow: 0px 1px 2px rgba(60, 64, 67, 0.3), 0px 1px 3px 1px rgba(60, 64, 67, 0.15);\n",
              "      fill: #174EA6;\n",
              "    }\n",
              "\n",
              "    [theme=dark] .colab-df-convert {\n",
              "      background-color: #3B4455;\n",
              "      fill: #D2E3FC;\n",
              "    }\n",
              "\n",
              "    [theme=dark] .colab-df-convert:hover {\n",
              "      background-color: #434B5C;\n",
              "      box-shadow: 0px 1px 3px 1px rgba(0, 0, 0, 0.15);\n",
              "      filter: drop-shadow(0px 1px 2px rgba(0, 0, 0, 0.3));\n",
              "      fill: #FFFFFF;\n",
              "    }\n",
              "  </style>\n",
              "\n",
              "      <script>\n",
              "        const buttonEl =\n",
              "          document.querySelector('#df-d9b1e4c4-4efc-42ff-8bad-06daa64227ed button.colab-df-convert');\n",
              "        buttonEl.style.display =\n",
              "          google.colab.kernel.accessAllowed ? 'block' : 'none';\n",
              "\n",
              "        async function convertToInteractive(key) {\n",
              "          const element = document.querySelector('#df-d9b1e4c4-4efc-42ff-8bad-06daa64227ed');\n",
              "          const dataTable =\n",
              "            await google.colab.kernel.invokeFunction('convertToInteractive',\n",
              "                                                     [key], {});\n",
              "          if (!dataTable) return;\n",
              "\n",
              "          const docLinkHtml = 'Like what you see? Visit the ' +\n",
              "            '<a target=\"_blank\" href=https://colab.research.google.com/notebooks/data_table.ipynb>data table notebook</a>'\n",
              "            + ' to learn more about interactive tables.';\n",
              "          element.innerHTML = '';\n",
              "          dataTable['output_type'] = 'display_data';\n",
              "          await google.colab.output.renderOutput(dataTable, element);\n",
              "          const docLink = document.createElement('div');\n",
              "          docLink.innerHTML = docLinkHtml;\n",
              "          element.appendChild(docLink);\n",
              "        }\n",
              "      </script>\n",
              "    </div>\n",
              "  </div>\n",
              "  "
            ]
          },
          "metadata": {},
          "execution_count": 3
        }
      ]
    },
    {
      "cell_type": "markdown",
      "source": [
        "(a) Find the size of the data frame. How many rows, how many columns?\n"
      ],
      "metadata": {
        "id": "hEw4_Lm2RYBn"
      }
    },
    {
      "cell_type": "code",
      "source": [
        "medals.shape"
      ],
      "metadata": {
        "colab": {
          "base_uri": "https://localhost:8080/"
        },
        "id": "2AEwhhBLRaGE",
        "outputId": "c4c46778-d802-4f01-c68c-79e5d66bce8e"
      },
      "execution_count": 4,
      "outputs": [
        {
          "output_type": "execute_result",
          "data": {
            "text/plain": [
              "(2394, 8)"
            ]
          },
          "metadata": {},
          "execution_count": 4
        }
      ]
    },
    {
      "cell_type": "markdown",
      "source": [
        "(b) Use the appropriate function to report the data types for all columns."
      ],
      "metadata": {
        "id": "x_OCgESRTjPo"
      }
    },
    {
      "cell_type": "code",
      "source": [
        "medals.dtypes"
      ],
      "metadata": {
        "colab": {
          "base_uri": "https://localhost:8080/"
        },
        "id": "Bw-qB_D0TklN",
        "outputId": "43221c00-7069-42d4-ee4e-f6d6383d0cfc"
      },
      "execution_count": 5,
      "outputs": [
        {
          "output_type": "execute_result",
          "data": {
            "text/plain": [
              "Gender         object\n",
              "Event          object\n",
              "Location       object\n",
              "Year            int64\n",
              "Medal          object\n",
              "Name           object\n",
              "Nationality    object\n",
              "Result         object\n",
              "dtype: object"
            ]
          },
          "metadata": {},
          "execution_count": 5
        }
      ]
    },
    {
      "cell_type": "markdown",
      "source": [
        "(c) Find how many unique cities matches were held at. (Hint: unique( ). For instance, the following example tells how many unique Events held:) len(medals['Event'].unique())"
      ],
      "metadata": {
        "id": "o8gFqd_8Txbp"
      }
    },
    {
      "cell_type": "code",
      "source": [
        "medals['Location'].unique()\n"
      ],
      "metadata": {
        "colab": {
          "base_uri": "https://localhost:8080/"
        },
        "id": "9Ncu5rsdT0Bs",
        "outputId": "1cd577e9-cdf3-446c-a359-347c77cc7bbd"
      },
      "execution_count": 8,
      "outputs": [
        {
          "output_type": "execute_result",
          "data": {
            "text/plain": [
              "array(['Rio', 'Beijing', 'Sydney', 'Barcelona', 'Los Angeles', 'Montreal',\n",
              "       'Mexico', 'Rome', 'Helsinki', 'Berlin', 'Amsterdam', 'Antwerp',\n",
              "       'London', 'Athens', 'Atlanta', 'Moscow', 'Munich', 'Tokyo',\n",
              "       'Melbourne / Stockholm', 'Paris', 'Stockholm', 'St Louis', 'Seoul'],\n",
              "      dtype=object)"
            ]
          },
          "metadata": {},
          "execution_count": 8
        }
      ]
    },
    {
      "cell_type": "markdown",
      "source": [
        "(d) Find how many medals the USA team won in total."
      ],
      "metadata": {
        "id": "rH12D9wTUWae"
      }
    },
    {
      "cell_type": "code",
      "source": [
        "medals[medals['Nationality']=='USA'].count()"
      ],
      "metadata": {
        "colab": {
          "base_uri": "https://localhost:8080/"
        },
        "id": "4BdFBPymUXap",
        "outputId": "239c2651-4050-4557-ccc1-f9635a3c7812"
      },
      "execution_count": 13,
      "outputs": [
        {
          "output_type": "execute_result",
          "data": {
            "text/plain": [
              "Gender         638\n",
              "Event          638\n",
              "Location       638\n",
              "Year           638\n",
              "Medal          638\n",
              "Name           577\n",
              "Nationality    638\n",
              "Result         638\n",
              "dtype: int64"
            ]
          },
          "metadata": {},
          "execution_count": 13
        }
      ]
    },
    {
      "cell_type": "markdown",
      "source": [
        "(e) Find the total number of medals for each Nationality. (Hint: please search for groupby() function with count. For instance, the following example counts at how many locations each event was held. ) medals.groupby(by='Event')['Location'].count()\n"
      ],
      "metadata": {
        "id": "vBA0vnihYIRd"
      }
    },
    {
      "cell_type": "code",
      "source": [
        "medals.groupby(by='Nationality')['Medal'].count()"
      ],
      "metadata": {
        "colab": {
          "base_uri": "https://localhost:8080/"
        },
        "id": "cFh7QQ8CYKYA",
        "outputId": "5ee8cfbb-1f6c-4112-f8e3-96270da4f2b5"
      },
      "execution_count": 15,
      "outputs": [
        {
          "output_type": "execute_result",
          "data": {
            "text/plain": [
              "Nationality\n",
              "ALG      9\n",
              "ARG      4\n",
              "AUS     57\n",
              "AUT      4\n",
              "BAH     12\n",
              "      ... \n",
              "URS    131\n",
              "USA    638\n",
              "VEN      2\n",
              "YUG      1\n",
              "ZAM      1\n",
              "Name: Medal, Length: 97, dtype: int64"
            ]
          },
          "metadata": {},
          "execution_count": 15
        }
      ]
    }
  ]
}